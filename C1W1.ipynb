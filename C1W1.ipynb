{
 "cells": [
  {
   "cell_type": "markdown",
   "id": "7b693aa7",
   "metadata": {},
   "source": [
    "# Curso 1: Neural Networks and Deep Learning\n",
    "## RafaCastle\n",
    "\n",
    "## Semana 1\n",
    "## ¿Qué es una red neuronal?"
   ]
  },
  {
   "cell_type": "markdown",
   "id": "62692111",
   "metadata": {},
   "source": [
    "Supongamos que se tiene un conjunto de datos con el precio de una casa de acuerdo a su tamaño. Si se aplica un modelo de regresión lineal, se obiene una gráfica como la que se muestra a continuación:\n",
    "\n",
    "![Title](Imágenes/1.1.1.png)\n",
    "\n",
    "Con la cual puede predecirse el precio de una casa dado su tamaño. Dado que no existen precios negativos, se hace una corrección al modelo y se establece el precio igual a 0 desde que el tamaño de la casa es igual a 0 hasta un cierto valor (cómo se ve en la figura). Esta corrección da lugar a una función denominada ReLU (rectified linear units), la cual es muy popular en la literatura sobre aprendizaje profundo.\n",
    "\n",
    "La función que se ajustó a este conjunto de datos puede verse como una red neuronal muy simple, todo lo que hace esta neurona es:\n",
    "\n",
    " 1. Recibir el valor del tamaño de la casa \n",
    " 2. Calcular la función lineal \n",
    " 3. Regresar el valor del precio estimado\n",
    " \n",
    " En la siguiente figura se representa gráficamente a la red neuronal:\n",
    " \n",
    "![Title](Imágenes/1.1.2.png)\n",
    "\n",
    "Así que esta es una red neuronal compuesta de una sola neurona. Las redes neuronales en general se componen de más neuronas como ésta. Veamos un ejemplo, supongamos que se tienen más parámetros que influyen en el precio de una casa además del tamaño, por ejemplo la cantidad de recámaras. Con estos 2 parámetros puedes darte una idea de que tamaño de familia estaría cómoda en esa casa. Agreguemos ahora otros parámetros como la ubicación o las actividades que hay cerca de esta casa. Con eso podemos saber la calidad de las escuelas y si es posible llegar caminando al trabajo o a demás actividades cotidianas. De esta forma podemos generar una red neuronal que depende de diversos parámetros (denominados x) y arroja finalmente el precio de la casa (denominado y). \n",
    "\n",
    "![Title](Imágenes/1.1.3.png)\n",
    "\n",
    "\n",
    "visto de otra forma se puede representar como:\n",
    "\n",
    "![Title](Imágenes/1.1.4.png)\n"
   ]
  }
 ],
 "metadata": {
  "kernelspec": {
   "display_name": "Python 3",
   "language": "python",
   "name": "python3"
  },
  "language_info": {
   "codemirror_mode": {
    "name": "ipython",
    "version": 3
   },
   "file_extension": ".py",
   "mimetype": "text/x-python",
   "name": "python",
   "nbconvert_exporter": "python",
   "pygments_lexer": "ipython3",
   "version": "3.8.8"
  }
 },
 "nbformat": 4,
 "nbformat_minor": 5
}
