{
 "cells": [
  {
   "cell_type": "markdown",
   "id": "1aa73715",
   "metadata": {},
   "source": [
    "# Curso 4: Improving Neural Networks\n",
    "## RafaCastle\n",
    "\n",
    "## Semana 2 \n",
    "\n",
    "En este curso en particular se tratan temas como la detección de patrones en imágenes, un tema que no es particularmente de mi interés. Por lo cual no seguiré con las notas de este curso hasta haber concluido las notas de la semana 5."
   ]
  }
 ],
 "metadata": {
  "kernelspec": {
   "display_name": "Python 3",
   "language": "python",
   "name": "python3"
  },
  "language_info": {
   "codemirror_mode": {
    "name": "ipython",
    "version": 3
   },
   "file_extension": ".py",
   "mimetype": "text/x-python",
   "name": "python",
   "nbconvert_exporter": "python",
   "pygments_lexer": "ipython3",
   "version": "3.8.8"
  }
 },
 "nbformat": 4,
 "nbformat_minor": 5
}
