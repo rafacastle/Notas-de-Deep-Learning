{
 "cells": [
  {
   "cell_type": "markdown",
   "id": "7f1b76c6",
   "metadata": {},
   "source": [
    "# Curso 2: Improving Neural Networks\n",
    "## RafaCastle\n",
    "\n",
    "## Semana 3 Mejorando las redes neuronales"
   ]
  },
  {
   "cell_type": "markdown",
   "id": "f47a7403",
   "metadata": {},
   "source": [
    "Para escoger los mejores hyper-parámetros, a veces es necesario escogerlos de manera aleatoria y probar las mejores combinaciones. Sin embargo hay que tener en cuenta que algunos hyper-parámetros, cómo el coeficiente de aprendizaje, pueden presentar grandes cambios en algunos intervalos y en otros no. Por ejemplo, si tomamos $\\alpha \\in \\{0.2005, 0.201\\}$ podríamos notar una variación menor en los resultados que si tomáramos $\\alpha \\in  \\{0.9905, 0.991\\}$ a pesar de que la diferencia entre ambos es la misma. Es por esto que es importante escoger la aleatoriedad de los parámetros de una manera equilibrada dependiendo del problema. "
   ]
  },
  {
   "cell_type": "markdown",
   "id": "a3b86a62",
   "metadata": {},
   "source": [
    "## Normalización Batch"
   ]
  },
  {
   "cell_type": "markdown",
   "id": "0d026df6",
   "metadata": {},
   "source": [
    "Así cómo para la regresión lineal, también es posible normalizar a las variables $z^{[l]}$ de las capas en una red neuronal para obtener más rápidamente a los parámetros $w$ y $b$. Por ahora, denotemos como $z^{(i)}$ a $z^{[l](i)}$ (la entrada i-ésima de $z$ en la capa $l$). De esta forma tendríamos que:\n",
    "\n",
    "$$\n",
    "z_{norm}^{(i)} = \\frac{z^{(i)}-\\mu}{\\sigma}\n",
    "$$\n",
    "\n",
    "con\n",
    "\n",
    "$$\n",
    "\\mu = \\frac{1}{m} \\sum_i z^i\n",
    "$$\n",
    "\n",
    "$$\n",
    "\\sigma^2 = \\frac{1}{m} \\sum_i (z^i - \\mu)^2\n",
    "$$\n",
    "\n",
    "De esta forma se utiliza a la variable $z_{norm}^{(i)}$ en lugar de $z^{(i)}$ para los siguientes cálculos en la red. Es decir (recordemos que se omiten los superíndices en esta notación, pero nos estamos refiriendo a la capa $l$):\n",
    "\n",
    "$$\n",
    "a = g(z_{norm})\n",
    "$$\n",
    "\n",
    "Es bueno notar que se pueden variar un poco los valores $\\mu$ y $\\sigma$ a conveniencia si no se quiere que los datos tengan una media de 0 y una desviación de 1. Siempre pueden cucharearse un poco estos valores, solo recuerda que cualquier cuchareo se debe aplicar a todas las neuronas por igual. "
   ]
  },
  {
   "cell_type": "markdown",
   "id": "0c54d0c6",
   "metadata": {},
   "source": [
    "## Clasificación multiclase"
   ]
  },
  {
   "cell_type": "markdown",
   "id": "8fd09864",
   "metadata": {},
   "source": [
    "Supongamos que se tiene un problema donde se quiere clasificar diferentes muestras en más de 2 segmentos, por decir, clasificar que tipo de animales hay en la siguiente imágen. Pueden etiquetarse las categorías cómo:\n",
    "\n",
    " 0. Koala\n",
    " 1. Gato\n",
    " 2. Perro\n",
    " 3. Pollo\n",
    "\n",
    "![Title](Imágenes/2.5.1.png)\n",
    "\n",
    "Así tenemos $C$ clases diferentes $C=4$, en este caso, requerimos que la última capa de la red neuronal tenga $C$ neuronas, es decir $n^{L} = C$. Lo que buscamos es que cada uno de los outputs nos diga cuál es la probabilidad de que la imágen pertenezca a una cierta categoría. Es por esto que $\\overline{y}$ sería un vector de $C$ entradas, al sumar todas las probabilidades del vector $\\overline{y}$ debemos obtener 1. "
   ]
  },
  {
   "cell_type": "markdown",
   "id": "264158ee",
   "metadata": {},
   "source": [
    "Tomando todo esto en cuenta tenemos entonces en la capa $L$ lo siguiente:\n",
    "\n",
    "$$\n",
    "z^{[L]} = w^{[L]} a^{[L-1]} + b^{[L]}\n",
    "$$\n",
    "\n",
    "Ahora, implementaremos una función de activación denominada softmax para esta capa. Primero debemos usar una variable temporal:\n",
    "\n",
    "$$\n",
    "t = e^{(z^{[l]})}\n",
    "$$\n",
    "\n",
    "Donde $t$ será un vector de la misma dimensión que $z^{[L]}$. Luego el output será el vector $t$ pero normalizado para que las entradas sumen 1:\n",
    "\n",
    "$$\n",
    "a^{[L]} = \\frac{t}{\\sum_{i=1}^C t_i}\n",
    "$$"
   ]
  },
  {
   "cell_type": "markdown",
   "id": "fffc1d66",
   "metadata": {},
   "source": [
    "A continuación se muestra un ejemplo de la clasificación que puede hacer softmax para una red neuronal con ninguna capa oculta y con $C=3$\n",
    "\n",
    "![Title](Imágenes/2.5.2.png)\n",
    "\n",
    "Es notorio que las regiones de integración son meramente lineales. Sin embargo, al agregar capas ocultas en la red, es posible obtener regiones no lineales."
   ]
  },
  {
   "cell_type": "markdown",
   "id": "b5235df4",
   "metadata": {},
   "source": [
    "Así, el algoritmo softmax generaliza la regresión logística a $C$ clases en lugar de 2. Por lo que si $C=2$ volvermos a la regresión lineal. Esto es simple de entender de manera intuitiva ya que, al tener $C=2$, el output sería un vector con 2 entradas, como ambas entradas deben sumar 1, se vuelve redundante tener 2, por lo que la red puede limitarse a solo dar 1 de estas entradas ya que la otra es fácilmente calculable. \n",
    "\n",
    "### Función de pérdida\n",
    "\n",
    "Supongamos que se tiene una red que intenta predecir la probanilidad de que una imágen corresponda a un cierto animal como en el ejemplo anterior. Al tratarse de un gato, el vector $y$ debería ser como sigue:\n",
    "\n",
    "$$\n",
    "y = [0,1,0,0]\n",
    "$$\n",
    "\n",
    "Sin embargo, nuestra red da el siguiente resultado:\n",
    "\n",
    "$$\n",
    "\\overline{y} = [0.3,0.2,0.1,0.4]\n",
    "$$\n",
    "\n",
    "Este es un mal resultado ya que no está dando la mayor probabilidad a la segunda entrada. Entonces ¿c+omo debería ser la función de pérdida para un ejemplo como éste?\n",
    "\n",
    "$$\n",
    "L = - \\sum_{j=1}^C y_i \\log\\overline{y}_i\n",
    "$$\n",
    "\n",
    "Es notorio que $y_i \\neq o$ para la segunda entrada. Es por esto que la función de pérdida está limitada a tomar este valor:\n",
    "\n",
    "$$\n",
    "L = - \\log \\overline{y}_2\n",
    "$$\n",
    "\n",
    "Así, para poder minimizar el valor de la función de pérdida, será necesario maximizar el valor de $\\overline{y}_2$. Con esta función la red podría dar un mejor resultado."
   ]
  },
  {
   "cell_type": "markdown",
   "id": "03601d26",
   "metadata": {},
   "source": [
    "Para la propagación backward será necesario hacer $dz^{[L]} = \\overline{y} - y$"
   ]
  },
  {
   "cell_type": "markdown",
   "id": "7a076f7d",
   "metadata": {},
   "source": [
    "## Tensorflow"
   ]
  },
  {
   "cell_type": "markdown",
   "id": "4a7ee1f9",
   "metadata": {},
   "source": [
    "HAgamos un ejemplo utilizando Tensorflow, que es un ambiente de trabajo para machine learnig que automatiza el álgebra.  "
   ]
  },
  {
   "cell_type": "code",
   "execution_count": 1,
   "id": "a31f4aae",
   "metadata": {},
   "outputs": [],
   "source": [
    "import numpy as np\n",
    "import tensorflow as tf"
   ]
  },
  {
   "cell_type": "code",
   "execution_count": 2,
   "id": "c0b5bf76",
   "metadata": {
    "scrolled": true
   },
   "outputs": [
    {
     "name": "stdout",
     "output_type": "stream",
     "text": [
      "<tf.Variable 'Variable:0' shape=() dtype=float32, numpy=0.0>\n"
     ]
    }
   ],
   "source": [
    "w = tf.Variable(0,dtype=tf.float32) # se define la variable que se va a entrenar, iniciándola en 0\n",
    "optimizer = tf.keras.optimizers.Adam(0.1) # se usa el algoritmo Adam, el input se refiere al coeficiente de aprendizaje.\n",
    "    \n",
    "print(w)"
   ]
  },
  {
   "cell_type": "markdown",
   "id": "7b27e7ea",
   "metadata": {},
   "source": [
    "Ahora, definamos cómo se va a entrenar a la red neuronal. Tensorflow tiene un método para evitarnos realizar la propagación backward llamado GradientTape (BLABLA) . Para ejemplificar, supongamos que la función cost es de la forma:\n",
    "\n",
    "$$\n",
    "J = w^2 - 10 w + 25\n",
    "$$\n",
    "\n",
    "Para esta función, sabemos que el mínimo está en $w=5$. "
   ]
  },
  {
   "cell_type": "code",
   "execution_count": 3,
   "id": "0f4b88e5",
   "metadata": {},
   "outputs": [
    {
     "data": {
      "image/png": "[encoded data removed]",
      "text/plain": [
       "<Figure size 432x288 with 1 Axes>"
      ]
     },
     "metadata": {
      "needs_background": "light"
     },
     "output_type": "display_data"
    }
   ],
   "source": [
    "import matplotlib.pyplot as plt\n",
    "\n",
    "W = np.linspace(0,10,100)\n",
    "cost = W ** 2 - 10 * W + 25\n",
    "\n",
    "plt.plot(W,cost, 'r')\n",
    "plt.show()"
   ]
  },
  {
   "cell_type": "markdown",
   "id": "f2b60f32",
   "metadata": {},
   "source": [
    "Asi es que computemos la solución cómo sigue, cada vez que se corra la función será una iteración de entrenamiento para la red neuronal, por lo que la función $J$ se debería acercar poco a poco a 5:"
   ]
  },
  {
   "cell_type": "code",
   "execution_count": 4,
   "id": "6a2e15d3",
   "metadata": {},
   "outputs": [],
   "source": [
    "def train_step():\n",
    "    with tf.GradientTape() as tape:\n",
    "        cost = w ** 2 - 10 * w + 25\n",
    "    trainable_variables = [w]\n",
    "    grads = tape.gradient(cost,trainable_variables)\n",
    "    optimizer.apply_gradients(zip(grads, trainable_variables))"
   ]
  },
  {
   "cell_type": "markdown",
   "id": "446d2709",
   "metadata": {},
   "source": [
    "Al correrla una vez vemos que el valor de $w$ cambia"
   ]
  },
  {
   "cell_type": "code",
   "execution_count": 5,
   "id": "1a139e30",
   "metadata": {},
   "outputs": [
    {
     "name": "stdout",
     "output_type": "stream",
     "text": [
      "<tf.Variable 'Variable:0' shape=() dtype=float32, numpy=0.09999997>\n"
     ]
    }
   ],
   "source": [
    "train_step()\n",
    "print(w)"
   ]
  },
  {
   "cell_type": "markdown",
   "id": "10555759",
   "metadata": {},
   "source": [
    "Al correrla mil veces vemos que prácticamente se ha alcanzado el valor de $w$ dónde la función $J$ es mínima."
   ]
  },
  {
   "cell_type": "code",
   "execution_count": 6,
   "id": "9dfa9f17",
   "metadata": {},
   "outputs": [
    {
     "name": "stdout",
     "output_type": "stream",
     "text": [
      "<tf.Variable 'Variable:0' shape=() dtype=float32, numpy=5.000001>\n"
     ]
    }
   ],
   "source": [
    "for i in range(1000):\n",
    "    train_step()\n",
    "\n",
    "print(w)"
   ]
  },
  {
   "cell_type": "markdown",
   "id": "9c84c0ee",
   "metadata": {},
   "source": [
    "Esiste otra sintaxis que hace prácticamente lo mismo que la anterior:"
   ]
  },
  {
   "cell_type": "code",
   "execution_count": 7,
   "id": "b60dbee8",
   "metadata": {},
   "outputs": [
    {
     "name": "stdout",
     "output_type": "stream",
     "text": [
      "<tf.Variable 'Variable:0' shape=() dtype=float32, numpy=0.0>\n"
     ]
    }
   ],
   "source": [
    "w = tf.Variable(0,dtype=tf.float32) \n",
    "x = np.array([1.0,-10.0,25.0],dtype=np.float32)\n",
    "optimizer = tf.keras.optimizers.Adam(0.1) \n",
    "    \n",
    "def cost_fn():\n",
    "    return x[0]*w**2 + x[1]*w + x[2]\n",
    "\n",
    "print(w)"
   ]
  },
  {
   "cell_type": "markdown",
   "id": "a70e5fec",
   "metadata": {},
   "source": [
    "Corramos una vez con la nueva sintaxis:"
   ]
  },
  {
   "cell_type": "code",
   "execution_count": 8,
   "id": "c5fcfe57",
   "metadata": {},
   "outputs": [
    {
     "name": "stdout",
     "output_type": "stream",
     "text": [
      "<tf.Variable 'Variable:0' shape=() dtype=float32, numpy=0.09999997>\n"
     ]
    }
   ],
   "source": [
    "optimizer.minimize(cost_fn,[w])\n",
    "print(w)"
   ]
  },
  {
   "cell_type": "markdown",
   "id": "012b39aa",
   "metadata": {},
   "source": [
    "Corramosla mil veces y veamos como va convergiendo el algoritmo:"
   ]
  },
  {
   "cell_type": "code",
   "execution_count": 9,
   "id": "4a910463",
   "metadata": {},
   "outputs": [
    {
     "name": "stdout",
     "output_type": "stream",
     "text": [
      "<tf.Variable 'Variable:0' shape=() dtype=float32, numpy=5.000001>\n"
     ]
    },
    {
     "data": {
      "text/plain": [
       "[<matplotlib.lines.Line2D at 0x1d566e653a0>]"
      ]
     },
     "execution_count": 9,
     "metadata": {},
     "output_type": "execute_result"
    },
    {
     "data": {
      "image/png": "[encoded data removed]",
      "text/plain": [
       "<Figure size 432x288 with 1 Axes>"
      ]
     },
     "metadata": {
      "needs_background": "light"
     },
     "output_type": "display_data"
    }
   ],
   "source": [
    "w = tf.Variable(0,dtype=tf.float32) \n",
    "w_list = []\n",
    "\n",
    "iterations=1000\n",
    "\n",
    "for i in range(iterations):\n",
    "    optimizer.minimize(cost_fn,[w])\n",
    "    w_list.append(w.numpy())\n",
    "    \n",
    "print(w)\n",
    "\n",
    "plt.plot([i for i in range(iterations)],w_list, 'r')"
   ]
  },
  {
   "cell_type": "markdown",
   "id": "9c080a94",
   "metadata": {},
   "source": [
    "En la gráfica es notorio que el algoritmo convergió desde la iteración número 200.\n",
    "\n",
    "Así, vemos que, con TensorFLow, el problema se reduce a darle a la librería la función de coste $J$ y el algoritmo obtendrá los diferenciales y ejecutará la propagación backward por sí solo."
   ]
  }
 ],
 "metadata": {
  "kernelspec": {
   "display_name": "Python 3",
   "language": "python",
   "name": "python3"
  },
  "language_info": {
   "codemirror_mode": {
    "name": "ipython",
    "version": 3
   },
   "file_extension": ".py",
   "mimetype": "text/x-python",
   "name": "python",
   "nbconvert_exporter": "python",
   "pygments_lexer": "ipython3",
   "version": "3.8.8"
  }
 },
 "nbformat": 4,
 "nbformat_minor": 5
}
